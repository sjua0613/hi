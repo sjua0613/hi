{
  "nbformat": 4,
  "nbformat_minor": 0,
  "metadata": {
    "colab": {
      "name": "python01.ipynb",
      "provenance": [],
      "collapsed_sections": [],
      "toc_visible": true,
      "include_colab_link": true
    },
    "kernelspec": {
      "name": "python3",
      "display_name": "Python 3"
    },
    "language_info": {
      "name": "python"
    }
  },
  "cells": [
    {
      "cell_type": "markdown",
      "metadata": {
        "id": "view-in-github",
        "colab_type": "text"
      },
      "source": [
        "<a href=\"https://colab.research.google.com/github/sjua0613/hi/blob/main/python01.ipynb\" target=\"_parent\"><img src=\"https://colab.research.google.com/assets/colab-badge.svg\" alt=\"Open In Colab\"/></a>"
      ]
    },
    {
      "cell_type": "markdown",
      "metadata": {
        "id": "su17VGVlJM1g"
      },
      "source": [
        "# 파이썬 기초\n"
      ]
    },
    {
      "cell_type": "markdown",
      "metadata": {
        "id": "sv3CQZ0OTYEQ"
      },
      "source": [
        "## 파이썬\n",
        "* 1990년 암스테르담의 귀도 반 로섬(Guido Van Rossum)이 개발한 **플랫폼 독립**적인 **인터프리터** 언어 \n",
        "  + 변수를 선언할 때 타입을 지정하지 않음\n",
        "  + 값을 할당하면 그때 동적으로 타입이 정해짐\n",
        "  + 타입이 다를 경우 형 변환을 해줘야 연산에 사용할 수 있음\n",
        "  \n",
        "### 파이썬 기본 문법\n",
        "* 주석 : 프로그램 실행과 관계 없이 코드에 대한 설명을 작성\n",
        "  + 한줄 주석 : # \n",
        "  + 여러줄 주석 : 작은따옴표 세개('''주석내용''')\n",
        "\n",
        "* 들여쓰기(indent)\n",
        "  + 코드 블럭을 구성하기 위해서는 반드시 들여쓰기 해야함\n",
        "\n",
        "* 행분리 : 역슬래쉬(\\)\n",
        "  + 하나의 명령을 여러 줄에 수행\n",
        "\n",
        "* 행결합 : 세미콜론(;)\n",
        "  + 한 줄에 여러 명령 수행\n"
      ]
    },
    {
      "cell_type": "code",
      "metadata": {
        "id": "z19VF2KQTC6u",
        "colab": {
          "base_uri": "https://localhost:8080/"
        },
        "outputId": "d554bd25-fdf7-4cad-f775-562f2eae13d7"
      },
      "source": [
        "'''\n",
        "데이터분석으로 배우는 인공지능\n",
        "작성자 : 김경민\n",
        "'''\n",
        "print('신주아')\n"
      ],
      "execution_count": null,
      "outputs": [
        {
          "output_type": "stream",
          "text": [
            "신주아\n"
          ],
          "name": "stdout"
        }
      ]
    },
    {
      "cell_type": "markdown",
      "metadata": {
        "id": "UK8mIocaHcm6"
      },
      "source": [
        "## 변수(Variable)\n",
        "* 필요한 데이터를 저장해 놓는 기억 공간의 별칭\n",
        "* 변수 명 규칙\n",
        "  + 영문 문자와 숫자 사용 : 대소문자 구분\n",
        "  + 문자나 _(밑줄 문자)로 시작 : 숫자부터 시작하면 안 됨\n",
        "  + 특수 문자(+, -, *, /, $, @, &, % 등)는 사용할 수 없음\n",
        "  + python 키워드(if, for, while, and, or 등)는 사용할 수 없음\n",
        "\n"
      ]
    },
    {
      "cell_type": "code",
      "metadata": {
        "id": "yOZchaNHUkQ9"
      },
      "source": [
        "x =  '10'"
      ],
      "execution_count": null,
      "outputs": []
    },
    {
      "cell_type": "code",
      "metadata": {
        "colab": {
          "base_uri": "https://localhost:8080/",
          "height": 35
        },
        "id": "CnNIHdPmU2x5",
        "outputId": "210a2f71-e454-44c4-ea63-56149f302343"
      },
      "source": [
        "x"
      ],
      "execution_count": null,
      "outputs": [
        {
          "output_type": "execute_result",
          "data": {
            "application/vnd.google.colaboratory.intrinsic+json": {
              "type": "string"
            },
            "text/plain": [
              "'10'"
            ]
          },
          "metadata": {
            "tags": []
          },
          "execution_count": 15
        }
      ]
    },
    {
      "cell_type": "markdown",
      "metadata": {
        "id": "KbXsZqOQC9C4"
      },
      "source": [
        "\n",
        "### 파이썬 데이터 타입(Data Type)\n",
        "* 정수 : 정수 자료형(int)\n",
        "* 실수 : 부동소수점 자료형(float)\n",
        "* 참거짓 : 참(True)과 거짓(False)를 나타내는 부울 자료형(bool)\n",
        "* 문자열 : 문자열 자료형(str), 작은따옴표('')나 큰따옴표(\"\")로 묶음\n"
      ]
    },
    {
      "cell_type": "markdown",
      "metadata": {
        "id": "6N1gGIhVC-__"
      },
      "source": [
        "\n",
        "### 데이터 타입 확인 \n",
        "* type() 함수 "
      ]
    },
    {
      "cell_type": "code",
      "metadata": {
        "id": "R4zETtllGaBS"
      },
      "source": [
        "x = 10\n",
        "y = 20.5\n",
        "b = True \n",
        "s = 'Hello Python!'\n"
      ],
      "execution_count": null,
      "outputs": []
    },
    {
      "cell_type": "code",
      "metadata": {
        "colab": {
          "base_uri": "https://localhost:8080/"
        },
        "id": "DMII04OOV1eN",
        "outputId": "3ffcbea1-d2af-473f-bae0-6af81887415f"
      },
      "source": [
        "print(x, type(x))\n",
        "print(y, type(y))\n",
        "print(b, type(b))\n",
        "print(s, type(s))"
      ],
      "execution_count": null,
      "outputs": [
        {
          "output_type": "stream",
          "text": [
            "10 <class 'int'>\n",
            "20.5 <class 'float'>\n",
            "True <class 'bool'>\n",
            "Hello Python! <class 'str'>\n"
          ],
          "name": "stdout"
        }
      ]
    },
    {
      "cell_type": "markdown",
      "metadata": {
        "id": "11wNQjyDPh-w"
      },
      "source": [
        "\n",
        "\n",
        "---\n",
        "\n",
        "**생각해보기)**\n",
        "\n",
        "\n",
        "---\n",
        "10과 '10'은 같은 자료형일까?\n"
      ]
    },
    {
      "cell_type": "markdown",
      "metadata": {
        "id": "YwtNjm3wXfLq"
      },
      "source": [
        "## 형변환(type Casting)\n",
        "* int() : 실수나 문자열을 정수로 변환\n",
        "* float() : 정수나 문자열을 실수로 변환\n",
        "* str() : 정수나 실수를 문자열로 변환"
      ]
    },
    {
      "cell_type": "code",
      "metadata": {
        "id": "ckeWLeSwa4KL",
        "colab": {
          "base_uri": "https://localhost:8080/"
        },
        "outputId": "ad80bf57-3849-46e4-db41-350ccb96b9ab"
      },
      "source": [
        "x = '10' \n",
        "print(x, type(x))\n",
        "\n",
        "x = int(x)\n",
        "print(x, type(x))\n",
        "\n"
      ],
      "execution_count": null,
      "outputs": [
        {
          "output_type": "stream",
          "text": [
            "10 <class 'str'>\n",
            "10 <class 'int'>\n"
          ],
          "name": "stdout"
        }
      ]
    },
    {
      "cell_type": "code",
      "metadata": {
        "colab": {
          "base_uri": "https://localhost:8080/"
        },
        "id": "hcUcLXLFXTbj",
        "outputId": "95bdc8c6-aa0b-4da3-eb75-dec6bc653a39"
      },
      "source": [
        "x = 10\n",
        "y = '20'\n",
        "\n",
        "y = int(y)\n",
        "print(x + y)"
      ],
      "execution_count": null,
      "outputs": [
        {
          "output_type": "stream",
          "text": [
            "30\n"
          ],
          "name": "stdout"
        }
      ]
    },
    {
      "cell_type": "markdown",
      "metadata": {
        "id": "DWtUMslKJsti"
      },
      "source": [
        "## 파이썬 기본 입출력\n",
        "\n"
      ]
    },
    {
      "cell_type": "markdown",
      "metadata": {
        "id": "3Bzget_gCrTY"
      },
      "source": [
        "### 표준 입력 : input() \n",
        "* 표준 입력 장치인 키보드로 부터 입력\n",
        "* 입력된 값은 문자열\n",
        "```python\n",
        "input() # 표준 입력장치로 부터 문자열을 입력\n",
        "input('문자열') # 문자열을 출력하고 표준 입력장치로 부터 문자열 입력\n",
        "```"
      ]
    },
    {
      "cell_type": "code",
      "metadata": {
        "id": "xQJnx1BGOV6s",
        "colab": {
          "base_uri": "https://localhost:8080/"
        },
        "outputId": "a8af53b9-7cfc-4a5c-c431-ba33f9792e99"
      },
      "source": [
        "x = input()\n"
      ],
      "execution_count": null,
      "outputs": [
        {
          "output_type": "stream",
          "text": [
            "15\\\n"
          ],
          "name": "stdout"
        }
      ]
    },
    {
      "cell_type": "code",
      "metadata": {
        "colab": {
          "base_uri": "https://localhost:8080/"
        },
        "id": "gwXBkM9JY2w2",
        "outputId": "da579152-ceae-4992-ebde-330853949435"
      },
      "source": [
        "x = input()\n",
        "y = input()\n",
        "\n",
        "print(int(x)+int(y))"
      ],
      "execution_count": null,
      "outputs": [
        {
          "output_type": "stream",
          "text": [
            "1\n",
            "5\n",
            "6\n"
          ],
          "name": "stdout"
        }
      ]
    },
    {
      "cell_type": "code",
      "metadata": {
        "colab": {
          "base_uri": "https://localhost:8080/"
        },
        "id": "6t44Ua5UaJGS",
        "outputId": "2fca2452-7131-4121-8c43-8fee704d7fc4"
      },
      "source": [
        "x = int(input())\n",
        "y = int(input())\n",
        "\n",
        "print(x+y)"
      ],
      "execution_count": null,
      "outputs": [
        {
          "output_type": "stream",
          "text": [
            "1\n",
            "5\n",
            "6\n"
          ],
          "name": "stdout"
        }
      ]
    },
    {
      "cell_type": "markdown",
      "metadata": {
        "id": "zxsjrnPrbL41"
      },
      "source": [
        "---\n",
        "\n",
        "**생각해보기)**\n",
        "\n",
        "\n",
        "---\n",
        "정수나 실수 입력은 어떻게 받을까?\n"
      ]
    },
    {
      "cell_type": "markdown",
      "metadata": {
        "id": "hkIw8ddZbV64"
      },
      "source": [
        "### 숫자 입력 "
      ]
    },
    {
      "cell_type": "code",
      "metadata": {
        "id": "pxD3xR4_7lww"
      },
      "source": [
        "#정수 입력\n",
        " \n",
        "\n",
        "#실수 입력\n",
        " \n",
        "\n",
        " "
      ],
      "execution_count": null,
      "outputs": []
    },
    {
      "cell_type": "markdown",
      "metadata": {
        "id": "_mn6EKvJOVhJ"
      },
      "source": [
        "\n",
        "### 표준 출력 : print() \n",
        "* 표준 출력 장치인 모니터로 출력\n",
        "```python\n",
        "print(값1, 값2, ....) # 문자열을 출력하고 표준 입력장치로 부터 문자열 입력\n",
        "```\n",
        "\n",
        "* f-string\n",
        "  + Python 신규 버전(3.6 이상) 부터 제공되는 기능\n",
        "  + f'문자열' : f로 시작하는 문자열\n",
        "    + 문자열 내부에 변수의 내용을 사용할 경우 {변수}\n",
        "    + 문자열 내부에 실수인 변수를 소수점 처리할 경우 {실수변수:.소수점자리f}\n",
        "   \n"
      ]
    },
    {
      "cell_type": "code",
      "metadata": {
        "id": "Bduh4-6GOOWC",
        "colab": {
          "base_uri": "https://localhost:8080/"
        },
        "outputId": "280755b2-78b8-4dd2-9b3a-71974f436e90"
      },
      "source": [
        "#소수정 처리 \n",
        "x = 3.14159\n",
        "\n",
        "print(f'x={x}')\n",
        "\n",
        " "
      ],
      "execution_count": null,
      "outputs": [
        {
          "output_type": "stream",
          "text": [
            "x=3.14159\n"
          ],
          "name": "stdout"
        }
      ]
    },
    {
      "cell_type": "code",
      "metadata": {
        "colab": {
          "base_uri": "https://localhost:8080/",
          "height": 136
        },
        "id": "nnHL0DTTbPye",
        "outputId": "8b26221e-c2ac-4467-d4d6-2b09d247aae5"
      },
      "source": [
        "print(f'x={x}:{2f}')"
      ],
      "execution_count": null,
      "outputs": [
        {
          "output_type": "error",
          "ename": "SyntaxError",
          "evalue": "ignored",
          "traceback": [
            "\u001b[0;36m  File \u001b[0;32m\"<fstring>\"\u001b[0;36m, line \u001b[0;32m1\u001b[0m\n\u001b[0;31m    (2f)\u001b[0m\n\u001b[0m      ^\u001b[0m\n\u001b[0;31mSyntaxError\u001b[0m\u001b[0;31m:\u001b[0m invalid syntax\n"
          ]
        }
      ]
    },
    {
      "cell_type": "code",
      "metadata": {
        "id": "P2lNk5YkbeNE"
      },
      "source": [
        "s = f'x=(x:2f)'"
      ],
      "execution_count": null,
      "outputs": []
    },
    {
      "cell_type": "markdown",
      "metadata": {
        "id": "LAJMcsxRCDxi"
      },
      "source": [
        "## 연산자\n",
        "자료를 처리하기 위한 수식들을 결합하여 연산 동작을 수행하도록 하는 기호\n",
        "\n",
        "+ 산술연산자\n",
        "  - 수학적 계산을 수행할 때 사용하는 연산자\n",
        "  - 사칙연산자(+, -, \\*, /), 제곱(\\**), 나머지(%), 나누기 결과 정수(//)\n",
        "\n",
        "+ 비교연산자(관계연산자)\n",
        "  - 비교할 때 사용하는 연산자\n",
        "  - 등호(==), 같지 않음(!=), 부등호(<, >, <=, >=)\n",
        "\n",
        "+ 논리연산자\n",
        "  - 주어진 논리식을 판단하여, 참(true)과 거짓(false)을 결정하는 연산자\n",
        "  - and(논리곱), or(논리합), not\n",
        "\n",
        "+ 할당연산자\n",
        "  - 변수에 값을 할당하기 위하여 사용하는 연산자\n"
      ]
    },
    {
      "cell_type": "code",
      "metadata": {
        "id": "5Vlw4Oc-DoNm",
        "colab": {
          "base_uri": "https://localhost:8080/"
        },
        "outputId": "df43dbc4-cb5a-4cf9-fdf7-5fea276fccbb"
      },
      "source": [
        "#두 정수를 입력받아서 산술연산\n",
        "x = 3**2\n",
        "print(x)"
      ],
      "execution_count": null,
      "outputs": [
        {
          "output_type": "stream",
          "text": [
            "9\n"
          ],
          "name": "stdout"
        }
      ]
    },
    {
      "cell_type": "code",
      "metadata": {
        "colab": {
          "base_uri": "https://localhost:8080/"
        },
        "id": "zM1741Dhb_ij",
        "outputId": "d8958014-61b3-4db2-e144-93f6dc78eb2b"
      },
      "source": [
        "x = 10%3\n",
        "print(x)"
      ],
      "execution_count": null,
      "outputs": [
        {
          "output_type": "stream",
          "text": [
            "1\n"
          ],
          "name": "stdout"
        }
      ]
    },
    {
      "cell_type": "markdown",
      "metadata": {
        "id": "giOVG8WsLqGo"
      },
      "source": [
        "## 조건문\n",
        "프로그램의 실행 흐름을 바꾸고자 할 때 사용하는 제어문\n",
        " - 사용자가 지정한 조건에 따라 실행할 문장을 결정함\n",
        "```python\n",
        "if (조건식) : \n",
        "  명령문\n",
        "elif (조건식) :\n",
        "  명령문\n",
        "else :\n",
        "  명령문\n",
        "```\n",
        "\n",
        "- if 조건문 뒤에는 반드시 콜론(:)\n",
        "- 바로 아래 문장부터 **if문에 속하는 모든 문장에 들여쓰기(indentation)**를 해야 함\n",
        "- 파이썬에는 다른 언어에 있는 switch 문이 존재하지 않음 : if...elif...elif... 문으로 수행\n",
        "- pass  : def 문이나 if 문처럼 코드 블록을 본문으로 갖는 표현에서 본문을 비워 둘 때 사용"
      ]
    },
    {
      "cell_type": "code",
      "metadata": {
        "id": "2UIKX01cNywh"
      },
      "source": [
        "# 정수를 입력받아서 짝수/홀수 구분\n",
        " x = input()\n",
        "\n",
        " x % 2 == 0"
      ],
      "execution_count": null,
      "outputs": []
    },
    {
      "cell_type": "code",
      "metadata": {
        "colab": {
          "base_uri": "https://localhost:8080/"
        },
        "id": "6kiDKj9rcrLf",
        "outputId": "bc962bce-eadf-44dc-ee11-ddab3ca79292"
      },
      "source": [
        "x = int(input())\n",
        "\n",
        "if x % 2 == 0 :\n",
        "  print(f'{x}는 짝수')\n",
        "else :\n",
        "  print(f'{x}는 홀수')"
      ],
      "execution_count": null,
      "outputs": [
        {
          "output_type": "stream",
          "text": [
            "5\n",
            "5는 홀수\n"
          ],
          "name": "stdout"
        }
      ]
    },
    {
      "cell_type": "code",
      "metadata": {
        "id": "QpoBs8ucO0hO",
        "colab": {
          "base_uri": "https://localhost:8080/"
        },
        "outputId": "37fd94bf-64f9-4e26-9827-7f16349ea41f"
      },
      "source": [
        "# 성적을 입력받아서 70이상이면 Pass, 70점미만 60점이상 재수강, 60점미만 Fail\n",
        "x = float(input())\n",
        "\n",
        "if x >= 70 :\n",
        "  print('pass')\n",
        "\n",
        "else :\n",
        "  if x >= 60 :\n",
        "    print('재수강')\n",
        "  else :\n",
        "    print('fail')"
      ],
      "execution_count": null,
      "outputs": [
        {
          "output_type": "stream",
          "text": [
            "80\n",
            "pass\n"
          ],
          "name": "stdout"
        }
      ]
    },
    {
      "cell_type": "code",
      "metadata": {
        "colab": {
          "base_uri": "https://localhost:8080/"
        },
        "id": "Fq4leBN6gCVS",
        "outputId": "4d38092e-8334-499f-a59e-b26f9b5ff3f8"
      },
      "source": [
        "x = float(input())\n",
        "\n",
        "if x >= 70 : print(x, end=':'); print('pass')\n",
        "elif x >= 60 : print(x, end=':'); print('재수강')\n",
        "else : print(x);print(x, end=':'); print('fail')"
      ],
      "execution_count": null,
      "outputs": [
        {
          "output_type": "stream",
          "text": [
            "60\n",
            "60.0:재수강\n"
          ],
          "name": "stdout"
        }
      ]
    },
    {
      "cell_type": "markdown",
      "metadata": {
        "id": "SSdYAZd7VKu7"
      },
      "source": [
        "## 반복문\n",
        "+ **for문** : 컬렉션으로부터 하나씩 요소(element)를 가져와, 루프 내의 문장들을 실행\n",
        "```python\n",
        "for 변수 in 컬렉션:\n",
        "    명령문\n",
        "    명령문\n",
        "    ...\n",
        "```\n",
        "\n",
        " + **range() 함수**\n",
        "```python\n",
        "range(시작숫자, 종료숫자, step)\n",
        "```\n",
        "    + 결과는 시작숫자부터 종료숫자 바로 앞 숫자까지 컬렉션 생성\n",
        "    + 값을 확인하기 위해서는 순서가 있는 리스트나 튜플 컬렉션으로 변환해야 함\n",
        "    + 시작숫자를 생략하면 0부터 생성\n",
        "    + step을 생략하면 1씩 증가\n",
        "\n",
        "  + **in** 연산자, **not in** 연산자\n",
        "    + 멤버십 연산자로 컬렉션에 속한 멤버를 확인하기 위한 연산자\n",
        "\n",
        "+ **while문** : while 키워드 다음의 조건식이 참일 경우 계속 while 안의 블럭을 실행\n",
        "```python\n",
        "while 조건식:\n",
        "    명령문\n",
        "    명령문\n",
        "    ...\n",
        "```\n",
        "+ **break 문**\n",
        "  + 반복문 안에서 루프를 빠져나오기 위해 을 사용\n",
        "\n",
        "+ **continue문**\n",
        "  + 루프 블럭의 나머지 문장들을 실행하지 않고 다음 루프로 직접 돌아가게 함 "
      ]
    },
    {
      "cell_type": "code",
      "metadata": {
        "id": "SCXuAE5YWfCh",
        "colab": {
          "base_uri": "https://localhost:8080/"
        },
        "outputId": "f648fd19-5020-4368-96d9-438444e2dbd8"
      },
      "source": [
        "# 1에서 50까지 숫자 중의 3의 배수이면서 4의 배수인 수를 출력\n",
        "# for문으로 \n",
        "\n",
        "x = range(50)\n",
        "print(x, type(x))"
      ],
      "execution_count": null,
      "outputs": [
        {
          "output_type": "stream",
          "text": [
            "range(0, 50) <class 'range'>\n"
          ],
          "name": "stdout"
        }
      ]
    },
    {
      "cell_type": "code",
      "metadata": {
        "colab": {
          "base_uri": "https://localhost:8080/"
        },
        "id": "jWW6jh_-hkfm",
        "outputId": "ee6d8d4c-6500-4ee6-ac2b-8ac48085ea58"
      },
      "source": [
        "#for 은 맞으면 계속\n",
        "for n in range(1, 10) :\n",
        "  print(f'n={n}')"
      ],
      "execution_count": null,
      "outputs": [
        {
          "output_type": "stream",
          "text": [
            "n=1\n",
            "n=2\n",
            "n=3\n",
            "n=4\n",
            "n=5\n",
            "n=6\n",
            "n=7\n",
            "n=8\n",
            "n=9\n"
          ],
          "name": "stdout"
        }
      ]
    },
    {
      "cell_type": "code",
      "metadata": {
        "colab": {
          "base_uri": "https://localhost:8080/"
        },
        "id": "Jsnt7w0Sh175",
        "outputId": "df4f2cfa-2561-4d72-e37b-bc20a7ea056f"
      },
      "source": [
        "for n in range(10) :\n",
        "  print(f'n={n}')"
      ],
      "execution_count": null,
      "outputs": [
        {
          "output_type": "stream",
          "text": [
            "n=0\n",
            "n=1\n",
            "n=2\n",
            "n=3\n",
            "n=4\n",
            "n=5\n",
            "n=6\n",
            "n=7\n",
            "n=8\n",
            "n=9\n"
          ],
          "name": "stdout"
        }
      ]
    },
    {
      "cell_type": "code",
      "metadata": {
        "colab": {
          "base_uri": "https://localhost:8080/"
        },
        "id": "eAEgVsj5iF3J",
        "outputId": "739a9300-0a5b-40b5-e1d2-51dcad939920"
      },
      "source": [
        "for n in range(1,11,2) :\n",
        "  print(f'n={n}')"
      ],
      "execution_count": null,
      "outputs": [
        {
          "output_type": "stream",
          "text": [
            "n=1\n",
            "n=3\n",
            "n=5\n",
            "n=7\n",
            "n=9\n"
          ],
          "name": "stdout"
        }
      ]
    },
    {
      "cell_type": "code",
      "metadata": {
        "colab": {
          "base_uri": "https://localhost:8080/"
        },
        "id": "35ZEboJkiO-8",
        "outputId": "1fcea826-5fe8-4e21-b43f-e11bc28ee25f"
      },
      "source": [
        "for n in range(1,11) :\n",
        "  if n%2 == 0 : continue \n",
        "  #break - 1만 출력\n",
        "  print(f'n={n}')"
      ],
      "execution_count": null,
      "outputs": [
        {
          "output_type": "stream",
          "text": [
            "n=1\n",
            "n=3\n",
            "n=5\n",
            "n=7\n",
            "n=9\n"
          ],
          "name": "stdout"
        }
      ]
    },
    {
      "cell_type": "code",
      "metadata": {
        "id": "2OVQU8sn7Ybb",
        "colab": {
          "base_uri": "https://localhost:8080/"
        },
        "outputId": "aeb55875-9d8d-4da7-a46f-474a79576687"
      },
      "source": [
        "# 1에서 n까지 숫자 중의 3의 배수이면서 4의 배수인 수를 출력\n",
        "# while문으로 (만족하는 동안에)\n",
        "\n",
        "n = int(input())\n",
        "while n < 10 :\n",
        "  n = n + 1\n",
        "  \n",
        "  print(f'n={n}')"
      ],
      "execution_count": null,
      "outputs": [
        {
          "output_type": "stream",
          "text": [
            "5\n",
            "n=6\n",
            "n=7\n",
            "n=8\n",
            "n=9\n",
            "n=10\n"
          ],
          "name": "stdout"
        }
      ]
    },
    {
      "cell_type": "code",
      "metadata": {
        "colab": {
          "base_uri": "https://localhost:8080/"
        },
        "id": "3zfgcvtbTrs4",
        "outputId": "03262868-b0a4-4082-a992-3714174e2a32"
      },
      "source": [
        "n = int(input())\n",
        "\n",
        "for i in range(1, n+1) :\n",
        "  print(i)"
      ],
      "execution_count": null,
      "outputs": [
        {
          "output_type": "stream",
          "text": [
            "5\n",
            "1\n",
            "2\n",
            "3\n",
            "4\n",
            "5\n"
          ],
          "name": "stdout"
        }
      ]
    },
    {
      "cell_type": "code",
      "metadata": {
        "colab": {
          "base_uri": "https://localhost:8080/"
        },
        "id": "2Bkm0OkrU0Xa",
        "outputId": "c21d1977-39e2-44b8-c6bc-a7403d581863"
      },
      "source": [
        "# 1에서 n까지 숫자 중의 3의 배수이면서 4의 배수인 수를 출력\n",
        "# while문으로 (만족하는 동안에)\n",
        "\n",
        "n = int(input())\n",
        "\n",
        "for i in range(1, n+1) :\n",
        "  if i % 3 == 0 and i % 4 == 0:\n",
        "    print(i, end=' ')"
      ],
      "execution_count": null,
      "outputs": [
        {
          "output_type": "stream",
          "text": [
            "50\n",
            "12 24 36 48 "
          ],
          "name": "stdout"
        }
      ]
    },
    {
      "cell_type": "markdown",
      "metadata": {
        "id": "JsduJxykU5SH"
      },
      "source": [
        ""
      ]
    },
    {
      "cell_type": "markdown",
      "metadata": {
        "id": "x3ZrcPi4TdoM"
      },
      "source": [
        "---\n",
        "## **해결문제**\n",
        "\n",
        "\n",
        "---\n",
        "n이하의 피보나치 수열을 출력하시오.\n",
        " \n",
        " 예) 1000이하\n",
        " 0, 1, 1, 2, 3, 5, 8, 13, 21, 34, 55, 89, 144, 233, 377, 610, 987"
      ]
    },
    {
      "cell_type": "code",
      "metadata": {
        "id": "_TkcBBQCUPBz",
        "colab": {
          "base_uri": "https://localhost:8080/"
        },
        "outputId": "bf743cca-e1d7-4486-bb19-4e3d22250255"
      },
      "source": [
        "n = int(input())\n",
        "a, b = 0, 1\n",
        "while a < n :\n",
        "  print(a, end = ' ')\n",
        "  a, b = b, a+b\n",
        "\n"
      ],
      "execution_count": null,
      "outputs": [
        {
          "output_type": "stream",
          "text": [
            "50\n",
            "0 1 1 2 3 5 8 13 21 34 "
          ],
          "name": "stdout"
        }
      ]
    },
    {
      "cell_type": "markdown",
      "metadata": {
        "id": "HamzjivGDVPY"
      },
      "source": [
        "\n",
        "\n",
        "---\n",
        "## **해결문제**\n",
        "\n",
        "\n",
        "---\n",
        " 밑변과 높이를 입력받아 삼각형의 면적을 구하시오.\n",
        " * 밑변과 높이는 정수형으로 입력\n",
        "\n"
      ]
    },
    {
      "cell_type": "code",
      "metadata": {
        "id": "SKr-npERGvSN",
        "colab": {
          "base_uri": "https://localhost:8080/"
        },
        "outputId": "ce2d1f48-8a1f-44bc-bdc1-9eccbd0f8122"
      },
      "source": [
        "x = int(input())\n",
        "y = int(input())\n",
        "z = x * y\n",
        "u = z/2\n",
        "\n",
        "print(u)"
      ],
      "execution_count": null,
      "outputs": [
        {
          "output_type": "stream",
          "text": [
            "10\n",
            "5\n",
            "25.0\n"
          ],
          "name": "stdout"
        }
      ]
    },
    {
      "cell_type": "code",
      "metadata": {
        "colab": {
          "base_uri": "https://localhost:8080/"
        },
        "id": "HMtJfVRqJYjp",
        "outputId": "95e16ad4-1fef-4b7b-ff6c-100c38190f60"
      },
      "source": [
        "x,y = input('밑변과 높이를 입력하세요: ').split()\n",
        "x = int(x)\n",
        "y = int(y)\n",
        "z = float(x*y/2)\n",
        "print(z)"
      ],
      "execution_count": null,
      "outputs": [
        {
          "output_type": "stream",
          "text": [
            "밑변과 높이를 입력하세요: 4 2\n",
            "4.0\n"
          ],
          "name": "stdout"
        }
      ]
    },
    {
      "cell_type": "code",
      "metadata": {
        "colab": {
          "base_uri": "https://localhost:8080/"
        },
        "id": "Gywh98gtYtlx",
        "outputId": "39441b71-514f-4e12-d576-405507e2a713"
      },
      "source": [
        "s = int(input())\n",
        "h = int(input())\n",
        "side = s*h/2\n",
        "print(f'밑변이 {s}이고 높이가 {h}인 삼각형의 면적은 {side}입니다.')"
      ],
      "execution_count": null,
      "outputs": [
        {
          "output_type": "stream",
          "text": [
            "6\n",
            "2\n",
            "밑변이 6이고 높이가 2인 삼각형의 면적은 6.0입니다.\n"
          ],
          "name": "stdout"
        }
      ]
    },
    {
      "cell_type": "markdown",
      "metadata": {
        "id": "SV2YNyZXG4EV"
      },
      "source": [
        "---\n",
        "\n",
        "**생각해보기)**\n",
        "\n",
        "\n",
        "---\n",
        "정수형으로 입력되는 밑변과 높이를 공백을 기준으로 한 줄로 입력받는다면?\n",
        "* 예) 20 10"
      ]
    }
  ]
}